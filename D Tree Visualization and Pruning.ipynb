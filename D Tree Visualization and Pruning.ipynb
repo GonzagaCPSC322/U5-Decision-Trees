{
 "cells": [
  {
   "cell_type": "markdown",
   "metadata": {},
   "source": [
    "# [CPSC 322](https://github.com/GonzagaCPSC322) Data Science Algorithms\n",
    "[Gonzaga University](https://www.gonzaga.edu/)\n",
    "\n",
    "[Gina Sprint](http://cs.gonzaga.edu/faculty/sprint/)\n",
    "\n",
    "# Visualization and Pruning\n",
    "What are our learning objectives for this lesson?\n",
    "* Visualize trees\n",
    "* Prune decision trees\n",
    "\n",
    "Content used in this lesson is based upon information in the following sources:\n",
    "* Dr. Shawn Bowers' Data Mining notes"
   ]
  },
  {
   "cell_type": "markdown",
   "metadata": {},
   "source": [
    "## Warm-up Task(s)\n",
    "1. Install [graphviz](https://graphviz.org/) in your Docker container with `apt update`, `apt install gcc`, and `apt install graphviz`\n",
    "1. Open DecisionTreeFun/main.py"
   ]
  },
  {
   "cell_type": "markdown",
   "metadata": {},
   "source": [
    "## Today\n",
    "* Announcements\n",
    "    * Nice job on IQ7, let's go over it!\n",
    "    * No IQ next class, work on PA6/7\n",
    "    * RQ8 is posted (last one!! RQ9 will be bonus pts 💰)\n",
    "    * PA6 is due on Thursday. Questions?\n",
    "        * Note: I will be traveling tomorrow to Wenatchee to rep GU CS and therefore have to cancel my office hours\n",
    "        * I will make up my office hours Tuesday/Thursday afternoon, 2-4pm\n",
    "    * PA7 is posted (Reminder: PA7 game plan is posted to Ed)\n",
    "* Finish DecisionTreeFun (`predict_starter_code()`, visualizing trees, and pruning notes)"
   ]
  },
  {
   "cell_type": "markdown",
   "metadata": {},
   "source": [
    "## Tree Visualization\n",
    "[Graphviz](https://graphviz.org/) is a tool for creating graph images:\n",
    "* Automatically lays out graphs (and trees)\n",
    "* Uses a textual input language (called \"dot\")\n",
    "\n",
    "To install dot and Graphviz:\n",
    "* Docker container: run `apt update`, `apt install gcc`, and `apt install graphviz`\n",
    "* Mac: run `pip install pygraphviz` or `conda install pygraphviz`\n",
    "    * If for some reason the above fails, install graphviz with Homebrew by running `brew install graphviz`\n",
    "    * Other install options available here: https://graphviz.gitlab.io/download/ \n",
    "* Windows: download the stable release of graphviz (at the time of writing: graphviz-2.38.msi) here: https://graphviz.gitlab.io/_pages/Download/Download_windows.html\n",
    "    * Run the installer, making a note of the folder in which you install it\n",
    "    * Find the folder where dot.exe is. It will be in the bin folder in the folder where you installed graphviz.\n",
    "        * It is most likely something like C:\\Program Files (x86)\\Graphviz2.38\\bin\n",
    "    * Add this path to your PATH environment variable\n",
    "\n",
    "Basic syntax (see www.graphviz.org for more info):\n",
    "\n",
    "```\n",
    "graph g { // define a graph (also: digraph)\n",
    "    rankdir=TB; // top-to-bottom layout (alt: LR)\n",
    "    N1; // a node labeled N1 (id N1)\n",
    "    N2 [label=\"Node 2\"]; // a node labeled N2\n",
    "    N1 -- N2; // N1 and N2 are connected by an edge, use -> for digraphs\n",
    "    N3 [label=\"Node 3\" shape=box]; // box shape\n",
    "    N1 -- N3;\n",
    "    N4 [style=filled fillcolor=Tomato]; // use color!\n",
    "    N1 -- N4 [label=\"connected\"]; // an edge label\n",
    "    N4 -- N5; // nodes implied in edges\n",
    "}\n",
    "```\n",
    "\n",
    "To create a PDF of a graph stored in file called in.dot: `dot -Tpdf -o out.pdf in.dot`\n",
    "\n",
    "<img src=\"https://raw.githubusercontent.com/GonzagaCPSC322/U5-Decision-Trees/master/figures/dot_example.png\" width=\"250\"/>\n",
    "\n",
    "\n",
    "Note: you can run this command from Python via the `os` module\n",
    "* Example: `os.popen(\"dot -Tpdf -o out.pdf in.dot\")`\n",
    "\n",
    "### Lab Task\n",
    "Create a dot file to visualize our interview dataset tree: \n",
    "\n",
    "<img src=\"https://raw.githubusercontent.com/GonzagaCPSC322/U5-Decision-Trees/master/figures/job_candidate_tree.png\" width=\"500\"/>"
   ]
  },
  {
   "cell_type": "markdown",
   "metadata": {},
   "source": [
    "## Decision Tree Pruning\n",
    "### Pre-pruning\n",
    "* As the tree is being constructed, stop \"early\" on a path\n",
    "* Instead of partitioning further, return majority vote or distribution\n",
    "* For example, require a certain entropy threshold before further partitioning\n",
    "\n",
    "### Post-pruning\n",
    "* Remove subtrees after a tree has been generated\n",
    "* Goal is to simplify the rules\n",
    "* Various algorithms for doing the pruning ...\n",
    "\n",
    "As an example, assume we have this within a decision tree:\n",
    "\n",
    "<img src=\"https://raw.githubusercontent.com/GonzagaCPSC322/U5-Decision-Trees/master/figures/pruning_example.png\" width=\"250\"/>\n",
    "\n",
    "* To prune, we might replace Attribute 3 with a leaf node\n",
    "* e.g., with the most frequently occurring class\n",
    "* e.g., if Yes nodes far outweigh No nodes under Attribute 3"
   ]
  },
  {
   "cell_type": "markdown",
   "metadata": {},
   "source": [
    "Problem: To pick the best pruned tree, we have to construct all pruned trees (there can be a lot of these!)\n",
    "\n",
    "Instead use heuristics: e.g., the **Cost Complexity** algorithm\n",
    "* Cost complexity is a function of:\n",
    "    * Number of leaves in the tree, and\n",
    "    * Error-rate of the tree (percent of instances misclassified)\n",
    "    * We want to minimize both the number of leaves (rules) and error rate\n",
    "* Works bottom up:\n",
    "    * At each attribute node, compute cost complexity\n",
    "    * Compare this to pruned cost complexity\n",
    "    * If pruning lowers cost complexity, then prune\n",
    "    * Otherwise keep un-pruned"
   ]
  }
 ],
 "metadata": {
  "anaconda-cloud": {},
  "kernelspec": {
   "display_name": "Python 3 (ipykernel)",
   "language": "python",
   "name": "python3"
  },
  "language_info": {
   "codemirror_mode": {
    "name": "ipython",
    "version": 3
   },
   "file_extension": ".py",
   "mimetype": "text/x-python",
   "name": "python",
   "nbconvert_exporter": "python",
   "pygments_lexer": "ipython3",
   "version": "3.9.7"
  }
 },
 "nbformat": 4,
 "nbformat_minor": 4
}
